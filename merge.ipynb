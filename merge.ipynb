{
 "cells": [
  {
   "cell_type": "code",
   "execution_count": 3,
   "metadata": {},
   "outputs": [],
   "source": [
    "import glob\n",
    "import pandas"
   ]
  },
  {
   "cell_type": "code",
   "execution_count": 4,
   "metadata": {},
   "outputs": [
    {
     "data": {
      "text/plain": [
       "['dark_1.csv', 'dark_2.csv', 'dark_3.csv']"
      ]
     },
     "execution_count": 4,
     "metadata": {},
     "output_type": "execute_result"
    }
   ],
   "source": [
    "file_list = glob.glob('dark_*.csv')\n",
    "file_list"
   ]
  },
  {
   "cell_type": "code",
   "execution_count": 5,
   "metadata": {},
   "outputs": [
    {
     "data": {
      "text/html": [
       "<div>\n",
       "<style scoped>\n",
       "    .dataframe tbody tr th:only-of-type {\n",
       "        vertical-align: middle;\n",
       "    }\n",
       "\n",
       "    .dataframe tbody tr th {\n",
       "        vertical-align: top;\n",
       "    }\n",
       "\n",
       "    .dataframe thead th {\n",
       "        text-align: right;\n",
       "    }\n",
       "</style>\n",
       "<table border=\"1\" class=\"dataframe\">\n",
       "  <thead>\n",
       "    <tr style=\"text-align: right;\">\n",
       "      <th></th>\n",
       "      <th>id</th>\n",
       "      <th>board</th>\n",
       "      <th>side</th>\n",
       "      <th>piece</th>\n",
       "      <th>atk</th>\n",
       "      <th>move</th>\n",
       "      <th>river</th>\n",
       "      <th>trap</th>\n",
       "      <th>den</th>\n",
       "      <th>score</th>\n",
       "      <th>winner</th>\n",
       "    </tr>\n",
       "  </thead>\n",
       "  <tbody>\n",
       "    <tr>\n",
       "      <th>0</th>\n",
       "      <td>c0d47dce-a898-4bac-adc1-2a1db9893294</td>\n",
       "      <td>l-r---E-T-d-----C---p---W-------------w---P---...</td>\n",
       "      <td>-1</td>\n",
       "      <td>R</td>\n",
       "      <td>1</td>\n",
       "      <td>G7G6</td>\n",
       "      <td>0</td>\n",
       "      <td>0</td>\n",
       "      <td>0</td>\n",
       "      <td>0</td>\n",
       "      <td>0</td>\n",
       "    </tr>\n",
       "    <tr>\n",
       "      <th>1</th>\n",
       "      <td>c0d47dce-a898-4bac-adc1-2a1db9893294</td>\n",
       "      <td>l--r--E-T-d-----C---p---W-------------w---P---...</td>\n",
       "      <td>1</td>\n",
       "      <td>r</td>\n",
       "      <td>1</td>\n",
       "      <td>A3A4</td>\n",
       "      <td>0</td>\n",
       "      <td>0</td>\n",
       "      <td>0</td>\n",
       "      <td>0</td>\n",
       "      <td>0</td>\n",
       "    </tr>\n",
       "    <tr>\n",
       "      <th>2</th>\n",
       "      <td>c0d47dce-a898-4bac-adc1-2a1db9893294</td>\n",
       "      <td>l--r--E-T-d-----C---p---W-------------w---P---...</td>\n",
       "      <td>-1</td>\n",
       "      <td>R</td>\n",
       "      <td>1</td>\n",
       "      <td>G6G5</td>\n",
       "      <td>0</td>\n",
       "      <td>0</td>\n",
       "      <td>0</td>\n",
       "      <td>0</td>\n",
       "      <td>0</td>\n",
       "    </tr>\n",
       "    <tr>\n",
       "      <th>3</th>\n",
       "      <td>c0d47dce-a898-4bac-adc1-2a1db9893294</td>\n",
       "      <td>l--r--E-T-d-----C---p---W------------w----P---...</td>\n",
       "      <td>1</td>\n",
       "      <td>w</td>\n",
       "      <td>4</td>\n",
       "      <td>E3E2</td>\n",
       "      <td>0</td>\n",
       "      <td>0</td>\n",
       "      <td>0</td>\n",
       "      <td>0</td>\n",
       "      <td>0</td>\n",
       "    </tr>\n",
       "    <tr>\n",
       "      <th>4</th>\n",
       "      <td>c0d47dce-a898-4bac-adc1-2a1db9893294</td>\n",
       "      <td>l--r--E-T-d-----C---p---W------------w----P---...</td>\n",
       "      <td>-1</td>\n",
       "      <td>R</td>\n",
       "      <td>1</td>\n",
       "      <td>G5G4</td>\n",
       "      <td>0</td>\n",
       "      <td>0</td>\n",
       "      <td>0</td>\n",
       "      <td>0</td>\n",
       "      <td>0</td>\n",
       "    </tr>\n",
       "  </tbody>\n",
       "</table>\n",
       "</div>"
      ],
      "text/plain": [
       "                                     id  \\\n",
       "0  c0d47dce-a898-4bac-adc1-2a1db9893294   \n",
       "1  c0d47dce-a898-4bac-adc1-2a1db9893294   \n",
       "2  c0d47dce-a898-4bac-adc1-2a1db9893294   \n",
       "3  c0d47dce-a898-4bac-adc1-2a1db9893294   \n",
       "4  c0d47dce-a898-4bac-adc1-2a1db9893294   \n",
       "\n",
       "                                               board  side piece  atk  move  \\\n",
       "0  l-r---E-T-d-----C---p---W-------------w---P---...    -1     R    1  G7G6   \n",
       "1  l--r--E-T-d-----C---p---W-------------w---P---...     1     r    1  A3A4   \n",
       "2  l--r--E-T-d-----C---p---W-------------w---P---...    -1     R    1  G6G5   \n",
       "3  l--r--E-T-d-----C---p---W------------w----P---...     1     w    4  E3E2   \n",
       "4  l--r--E-T-d-----C---p---W------------w----P---...    -1     R    1  G5G4   \n",
       "\n",
       "   river  trap  den  score  winner  \n",
       "0      0     0    0      0       0  \n",
       "1      0     0    0      0       0  \n",
       "2      0     0    0      0       0  \n",
       "3      0     0    0      0       0  \n",
       "4      0     0    0      0       0  "
      ]
     },
     "execution_count": 5,
     "metadata": {},
     "output_type": "execute_result"
    }
   ],
   "source": [
    "df_dark = pandas.DataFrame()\n",
    "\n",
    "for file in file_list:\n",
    "    df = pandas.read_csv(file)\n",
    "    df_dark = pandas.concat([df_dark, df], ignore_index=True)\n",
    "\n",
    "df_dark.to_csv('dark.csv', index=False)\n",
    "df_dark.head()"
   ]
  },
  {
   "cell_type": "code",
   "execution_count": 6,
   "metadata": {},
   "outputs": [
    {
     "data": {
      "text/plain": [
       "id                     c0d47dce-a898-4bac-adc1-2a1db9893294\n",
       "board     ----r-E-Tl-----WC--d---------p------L--R--P---...\n",
       "side                                                     -1\n",
       "piece                                                     L\n",
       "atk                                                       0\n",
       "move                                                   F1E1\n",
       "river                                                     0\n",
       "trap                                                      1\n",
       "den                                                       0\n",
       "score                                                   -90\n",
       "winner                                                    0\n",
       "Name: 32, dtype: object"
      ]
     },
     "execution_count": 6,
     "metadata": {},
     "output_type": "execute_result"
    }
   ],
   "source": [
    "sample = df_dark.iloc[32]\n",
    "sample"
   ]
  },
  {
   "cell_type": "code",
   "execution_count": 7,
   "metadata": {},
   "outputs": [
    {
     "data": {
      "text/plain": [
       "'------W---d---------p--r--l------P---------D--cw-----Lt-e-R----'"
      ]
     },
     "execution_count": 7,
     "metadata": {},
     "output_type": "execute_result"
    }
   ],
   "source": [
    "# Function to transform the board\n",
    "def transform_board(board):\n",
    "    return board[::-1].swapcase()\n",
    "\n",
    "transform_board(sample['board'])"
   ]
  },
  {
   "cell_type": "code",
   "execution_count": 8,
   "metadata": {},
   "outputs": [
    {
     "data": {
      "text/plain": [
       "'B9C9'"
      ]
     },
     "execution_count": 8,
     "metadata": {},
     "output_type": "execute_result"
    }
   ],
   "source": [
    "# Function to transform the move\n",
    "def transform_move(move):\n",
    "    col_map = {'A': 'G', 'B': 'F', 'C': 'E', 'D': 'D', 'E': 'C', 'F': 'B', 'G': 'A'}\n",
    "    row_map = {'1': '9', '2': '8', '3': '7', '4': '6', '5': '5', '6': '4', '7': '3', '8': '2', '9': '1'}\n",
    "    start_col, start_row, end_col, end_row = move[0], move[1], move[2], move[3]\n",
    "    return col_map[start_col] + row_map[start_row] + col_map[end_col] + row_map[end_row]\n",
    "\n",
    "transform_move(sample['move'])"
   ]
  },
  {
   "cell_type": "code",
   "execution_count": 9,
   "metadata": {},
   "outputs": [
    {
     "data": {
      "text/plain": [
       "'l'"
      ]
     },
     "execution_count": 9,
     "metadata": {},
     "output_type": "execute_result"
    }
   ],
   "source": [
    "# Function to transform the piece\n",
    "def transform_piece(piece):\n",
    "    return piece.swapcase()\n",
    "\n",
    "transform_piece(sample['piece'])"
   ]
  },
  {
   "cell_type": "code",
   "execution_count": 10,
   "metadata": {},
   "outputs": [
    {
     "data": {
      "text/plain": [
       "90"
      ]
     },
     "execution_count": 10,
     "metadata": {},
     "output_type": "execute_result"
    }
   ],
   "source": [
    "# Function to transform to opposite side\n",
    "def transform_side(x):\n",
    "    return x * -1\n",
    "\n",
    "transform_side(sample['score'])"
   ]
  },
  {
   "cell_type": "code",
   "execution_count": 11,
   "metadata": {},
   "outputs": [
    {
     "data": {
      "text/html": [
       "<div>\n",
       "<style scoped>\n",
       "    .dataframe tbody tr th:only-of-type {\n",
       "        vertical-align: middle;\n",
       "    }\n",
       "\n",
       "    .dataframe tbody tr th {\n",
       "        vertical-align: top;\n",
       "    }\n",
       "\n",
       "    .dataframe thead th {\n",
       "        text-align: right;\n",
       "    }\n",
       "</style>\n",
       "<table border=\"1\" class=\"dataframe\">\n",
       "  <thead>\n",
       "    <tr style=\"text-align: right;\">\n",
       "      <th></th>\n",
       "      <th>id</th>\n",
       "      <th>board</th>\n",
       "      <th>move</th>\n",
       "      <th>piece</th>\n",
       "      <th>side</th>\n",
       "      <th>trap</th>\n",
       "      <th>den</th>\n",
       "      <th>score</th>\n",
       "      <th>winner</th>\n",
       "    </tr>\n",
       "  </thead>\n",
       "  <tbody>\n",
       "    <tr>\n",
       "      <th>0</th>\n",
       "      <td>c0d47dce-a898-4bac-adc1-2a1db9893294</td>\n",
       "      <td>l--r--E-T-d-----C---p---W-------------w---P---...</td>\n",
       "      <td>A3A4</td>\n",
       "      <td>r</td>\n",
       "      <td>1</td>\n",
       "      <td>0</td>\n",
       "      <td>0</td>\n",
       "      <td>0</td>\n",
       "      <td>0</td>\n",
       "    </tr>\n",
       "    <tr>\n",
       "      <th>1</th>\n",
       "      <td>c0d47dce-a898-4bac-adc1-2a1db9893294</td>\n",
       "      <td>l--r--E-T-d-----C---p---W-------------w---P---...</td>\n",
       "      <td>G7G6</td>\n",
       "      <td>R</td>\n",
       "      <td>-1</td>\n",
       "      <td>0</td>\n",
       "      <td>0</td>\n",
       "      <td>0</td>\n",
       "      <td>0</td>\n",
       "    </tr>\n",
       "    <tr>\n",
       "      <th>2</th>\n",
       "      <td>c0d47dce-a898-4bac-adc1-2a1db9893294</td>\n",
       "      <td>l---r-E-T-d-----C---p---W-------------w---P---...</td>\n",
       "      <td>A4A5</td>\n",
       "      <td>r</td>\n",
       "      <td>1</td>\n",
       "      <td>0</td>\n",
       "      <td>0</td>\n",
       "      <td>0</td>\n",
       "      <td>0</td>\n",
       "    </tr>\n",
       "    <tr>\n",
       "      <th>3</th>\n",
       "      <td>c0d47dce-a898-4bac-adc1-2a1db9893294</td>\n",
       "      <td>l---r-E-T-d-----C---p----W------------w---P---...</td>\n",
       "      <td>C7C8</td>\n",
       "      <td>W</td>\n",
       "      <td>-1</td>\n",
       "      <td>0</td>\n",
       "      <td>0</td>\n",
       "      <td>0</td>\n",
       "      <td>0</td>\n",
       "    </tr>\n",
       "    <tr>\n",
       "      <th>4</th>\n",
       "      <td>c0d47dce-a898-4bac-adc1-2a1db9893294</td>\n",
       "      <td>l----rE-T-d-----C---p----W------------w---P---...</td>\n",
       "      <td>A5A6</td>\n",
       "      <td>r</td>\n",
       "      <td>1</td>\n",
       "      <td>0</td>\n",
       "      <td>0</td>\n",
       "      <td>0</td>\n",
       "      <td>0</td>\n",
       "    </tr>\n",
       "  </tbody>\n",
       "</table>\n",
       "</div>"
      ],
      "text/plain": [
       "                                     id  \\\n",
       "0  c0d47dce-a898-4bac-adc1-2a1db9893294   \n",
       "1  c0d47dce-a898-4bac-adc1-2a1db9893294   \n",
       "2  c0d47dce-a898-4bac-adc1-2a1db9893294   \n",
       "3  c0d47dce-a898-4bac-adc1-2a1db9893294   \n",
       "4  c0d47dce-a898-4bac-adc1-2a1db9893294   \n",
       "\n",
       "                                               board  move piece  side  trap  \\\n",
       "0  l--r--E-T-d-----C---p---W-------------w---P---...  A3A4     r     1     0   \n",
       "1  l--r--E-T-d-----C---p---W-------------w---P---...  G7G6     R    -1     0   \n",
       "2  l---r-E-T-d-----C---p---W-------------w---P---...  A4A5     r     1     0   \n",
       "3  l---r-E-T-d-----C---p----W------------w---P---...  C7C8     W    -1     0   \n",
       "4  l----rE-T-d-----C---p----W------------w---P---...  A5A6     r     1     0   \n",
       "\n",
       "   den  score  winner  \n",
       "0    0      0       0  \n",
       "1    0      0       0  \n",
       "2    0      0       0  \n",
       "3    0      0       0  \n",
       "4    0      0       0  "
      ]
     },
     "execution_count": 11,
     "metadata": {},
     "output_type": "execute_result"
    }
   ],
   "source": [
    "df_light = pandas.DataFrame()\n",
    "\n",
    "df_light['id'] = df_dark['id']\n",
    "df_light['board'] = df_dark['board'].apply(transform_board)\n",
    "df_light['move'] = df_dark['move'].apply(transform_move)\n",
    "df_light['piece'] = df_dark['piece'].apply(transform_piece)\n",
    "\n",
    "invert_columns = ['side', 'trap', 'den', 'score', 'winner']\n",
    "df_light[invert_columns] = df_dark[invert_columns].apply(transform_side)\n",
    "\n",
    "df_light.to_csv('light.csv', index=False)\n",
    "df_light.head()"
   ]
  },
  {
   "cell_type": "code",
   "execution_count": 12,
   "metadata": {},
   "outputs": [],
   "source": [
    "df_dark.drop(columns='id', inplace=True)\n",
    "df_light.drop(columns='id', inplace=True)"
   ]
  },
  {
   "cell_type": "code",
   "execution_count": 13,
   "metadata": {},
   "outputs": [],
   "source": [
    "df = pandas.concat([df_dark, df_light], ignore_index=True)"
   ]
  },
  {
   "cell_type": "code",
   "execution_count": 14,
   "metadata": {},
   "outputs": [
    {
     "data": {
      "text/html": [
       "<div>\n",
       "<style scoped>\n",
       "    .dataframe tbody tr th:only-of-type {\n",
       "        vertical-align: middle;\n",
       "    }\n",
       "\n",
       "    .dataframe tbody tr th {\n",
       "        vertical-align: top;\n",
       "    }\n",
       "\n",
       "    .dataframe thead th {\n",
       "        text-align: right;\n",
       "    }\n",
       "</style>\n",
       "<table border=\"1\" class=\"dataframe\">\n",
       "  <thead>\n",
       "    <tr style=\"text-align: right;\">\n",
       "      <th></th>\n",
       "      <th>board</th>\n",
       "      <th>side</th>\n",
       "      <th>piece</th>\n",
       "      <th>atk</th>\n",
       "      <th>move</th>\n",
       "      <th>river</th>\n",
       "      <th>trap</th>\n",
       "      <th>den</th>\n",
       "      <th>score</th>\n",
       "      <th>winner</th>\n",
       "    </tr>\n",
       "  </thead>\n",
       "  <tbody>\n",
       "    <tr>\n",
       "      <th>0</th>\n",
       "      <td>l-r---E-T-d-----C---p---W-------------w---P---...</td>\n",
       "      <td>-1</td>\n",
       "      <td>R</td>\n",
       "      <td>1</td>\n",
       "      <td>G7G6</td>\n",
       "      <td>0</td>\n",
       "      <td>0</td>\n",
       "      <td>0</td>\n",
       "      <td>0</td>\n",
       "      <td>0</td>\n",
       "    </tr>\n",
       "    <tr>\n",
       "      <th>1</th>\n",
       "      <td>l--r--E-T-d-----C---p---W-------------w---P---...</td>\n",
       "      <td>1</td>\n",
       "      <td>r</td>\n",
       "      <td>1</td>\n",
       "      <td>A3A4</td>\n",
       "      <td>0</td>\n",
       "      <td>0</td>\n",
       "      <td>0</td>\n",
       "      <td>0</td>\n",
       "      <td>0</td>\n",
       "    </tr>\n",
       "    <tr>\n",
       "      <th>2</th>\n",
       "      <td>l--r--E-T-d-----C---p---W-------------w---P---...</td>\n",
       "      <td>-1</td>\n",
       "      <td>R</td>\n",
       "      <td>1</td>\n",
       "      <td>G6G5</td>\n",
       "      <td>0</td>\n",
       "      <td>0</td>\n",
       "      <td>0</td>\n",
       "      <td>0</td>\n",
       "      <td>0</td>\n",
       "    </tr>\n",
       "    <tr>\n",
       "      <th>3</th>\n",
       "      <td>l--r--E-T-d-----C---p---W------------w----P---...</td>\n",
       "      <td>1</td>\n",
       "      <td>w</td>\n",
       "      <td>4</td>\n",
       "      <td>E3E2</td>\n",
       "      <td>0</td>\n",
       "      <td>0</td>\n",
       "      <td>0</td>\n",
       "      <td>0</td>\n",
       "      <td>0</td>\n",
       "    </tr>\n",
       "    <tr>\n",
       "      <th>4</th>\n",
       "      <td>l--r--E-T-d-----C---p---W------------w----P---...</td>\n",
       "      <td>-1</td>\n",
       "      <td>R</td>\n",
       "      <td>1</td>\n",
       "      <td>G5G4</td>\n",
       "      <td>0</td>\n",
       "      <td>0</td>\n",
       "      <td>0</td>\n",
       "      <td>0</td>\n",
       "      <td>0</td>\n",
       "    </tr>\n",
       "  </tbody>\n",
       "</table>\n",
       "</div>"
      ],
      "text/plain": [
       "                                               board  side piece  atk  move  \\\n",
       "0  l-r---E-T-d-----C---p---W-------------w---P---...    -1     R    1  G7G6   \n",
       "1  l--r--E-T-d-----C---p---W-------------w---P---...     1     r    1  A3A4   \n",
       "2  l--r--E-T-d-----C---p---W-------------w---P---...    -1     R    1  G6G5   \n",
       "3  l--r--E-T-d-----C---p---W------------w----P---...     1     w    4  E3E2   \n",
       "4  l--r--E-T-d-----C---p---W------------w----P---...    -1     R    1  G5G4   \n",
       "\n",
       "   river  trap  den  score  winner  \n",
       "0      0     0    0      0       0  \n",
       "1      0     0    0      0       0  \n",
       "2      0     0    0      0       0  \n",
       "3      0     0    0      0       0  \n",
       "4      0     0    0      0       0  "
      ]
     },
     "execution_count": 14,
     "metadata": {},
     "output_type": "execute_result"
    }
   ],
   "source": [
    "df.to_csv('animal_chess.csv', index=False)\n",
    "df_dark.head()"
   ]
  }
 ],
 "metadata": {
  "kernelspec": {
   "display_name": "Python 3",
   "language": "python",
   "name": "python3"
  },
  "language_info": {
   "codemirror_mode": {
    "name": "ipython",
    "version": 3
   },
   "file_extension": ".py",
   "mimetype": "text/x-python",
   "name": "python",
   "nbconvert_exporter": "python",
   "pygments_lexer": "ipython3",
   "version": "3.11.8"
  }
 },
 "nbformat": 4,
 "nbformat_minor": 2
}
