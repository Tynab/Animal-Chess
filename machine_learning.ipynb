{
 "cells": [
  {
   "cell_type": "code",
   "execution_count": 2,
   "metadata": {},
   "outputs": [],
   "source": [
    "import numpy\n",
    "import os\n",
    "import pandas\n",
    "import matplotlib.pyplot as plt\n",
    "import sklearn.model_selection as model_selection\n",
    "\n",
    "from datetime import *\n",
    "\n",
    "from sklearn.preprocessing import *\n",
    "from tensorflow.keras.callbacks import *\n",
    "from tensorflow.keras.layers import *\n",
    "from tensorflow.keras.losses import *\n",
    "from tensorflow.keras.models import *\n",
    "from tensorflow.keras.optimizers import *\n",
    "from tensorflow.keras.regularizers import *"
   ]
  },
  {
   "cell_type": "code",
   "execution_count": 3,
   "metadata": {},
   "outputs": [],
   "source": [
    "df = pandas.read_csv('animal_chess.csv')"
   ]
  },
  {
   "cell_type": "code",
   "execution_count": 4,
   "metadata": {},
   "outputs": [],
   "source": [
    "count = len(df)"
   ]
  },
  {
   "cell_type": "code",
   "execution_count": 5,
   "metadata": {},
   "outputs": [
    {
     "data": {
      "text/plain": [
       "board     ----r-E-Tl-----WC--d---------p------L--R--P---...\n",
       "side                                                     -1\n",
       "piece                                                     L\n",
       "atk                                                       0\n",
       "move                                                   F1E1\n",
       "river                                                     0\n",
       "trap                                                      1\n",
       "den                                                       0\n",
       "score                                                   -90\n",
       "winner                                                    0\n",
       "Name: 32, dtype: object"
      ]
     },
     "execution_count": 5,
     "metadata": {},
     "output_type": "execute_result"
    }
   ],
   "source": [
    "sample = df.iloc[32]\n",
    "sample"
   ]
  },
  {
   "cell_type": "code",
   "execution_count": 6,
   "metadata": {},
   "outputs": [
    {
     "data": {
      "text/plain": [
       "-7"
      ]
     },
     "execution_count": 6,
     "metadata": {},
     "output_type": "execute_result"
    }
   ],
   "source": [
    "# Encode the piece\n",
    "def encode_piece(piece_char):\n",
    "    piece_mapping = {'-': 0, 'r': 1, 'c': 2, 'd': 3, 'w': 4, 'p': 5, 't': 6, 'l': 7, 'e': 8, 'R': -1, 'C': -2, 'D': -3, 'W': -4, 'P': -5, 'T': -6, 'L': -7, 'E': -8}\n",
    "    return piece_mapping.get(piece_char, 0)\n",
    "\n",
    "encode_piece(sample['piece'])"
   ]
  },
  {
   "cell_type": "code",
   "execution_count": 7,
   "metadata": {},
   "outputs": [
    {
     "data": {
      "text/plain": [
       "array([[ 0.,  7.,  0.,  0., -7.,  0.,  0.],\n",
       "       [ 0.,  0.,  3.,  0.,  0.,  0.,  0.],\n",
       "       [ 0.,  0.,  0.,  5.,  0.,  0.,  4.],\n",
       "       [ 0.,  0.,  0.,  0., -1.,  0.,  0.],\n",
       "       [ 1.,  0.,  0.,  0.,  0.,  0.,  0.],\n",
       "       [ 0.,  0.,  0.,  0.,  0.,  0.,  0.],\n",
       "       [-8., -4.,  0.,  0., -5.,  0.,  0.],\n",
       "       [ 0., -2.,  0.,  0.,  0., -3.,  0.],\n",
       "       [-6.,  0.,  0.,  0.,  0.,  0.,  0.]])"
      ]
     },
     "execution_count": 7,
     "metadata": {},
     "output_type": "execute_result"
    }
   ],
   "source": [
    "# Encode the board\n",
    "def encode_board(board_str):\n",
    "    board_matrix = numpy.zeros((9, 7))\n",
    "    for i, piece in enumerate(board_str[::-1]):\n",
    "        row, col = divmod(i, 9)\n",
    "        board_matrix[col][row] = encode_piece(piece)\n",
    "    return numpy.flip(numpy.flip(board_matrix, 0), 1)\n",
    "\n",
    "encode_board(sample['board'])"
   ]
  },
  {
   "cell_type": "code",
   "execution_count": 9,
   "metadata": {},
   "outputs": [
    {
     "data": {
      "text/plain": [
       "[0, 5, 0, 4]"
      ]
     },
     "execution_count": 9,
     "metadata": {},
     "output_type": "execute_result"
    }
   ],
   "source": [
    "# Encode the move\n",
    "def encode_move(move_str):\n",
    "    col_from = ord(move_str[0]) - ord('A')\n",
    "    row_from = int(move_str[1]) - 1\n",
    "    col_to = ord(move_str[2]) - ord('A')\n",
    "    row_to = int(move_str[3]) - 1\n",
    "    return [row_from, col_from, row_to, col_to]\n",
    "\n",
    "encode_move(sample['move'])"
   ]
  },
  {
   "cell_type": "code",
   "execution_count": 8,
   "metadata": {},
   "outputs": [
    {
     "data": {
      "text/plain": [
       "array([[ 7.,  0.,  0., ...,  0.,  0., -7.],\n",
       "       [ 7.,  0.,  0., ...,  0.,  0., -7.],\n",
       "       [ 7.,  0.,  0., ...,  0.,  0., -7.],\n",
       "       ...,\n",
       "       [ 0.,  0.,  0., ...,  0.,  0.,  0.],\n",
       "       [ 0.,  0.,  0., ...,  0.,  0.,  0.],\n",
       "       [ 0.,  0.,  0., ...,  0.,  0.,  0.]])"
      ]
     },
     "execution_count": 8,
     "metadata": {},
     "output_type": "execute_result"
    }
   ],
   "source": [
    "df['board_encoded'] = df['board'].apply(encode_board)\n",
    "board_matrix_flattened = numpy.array(df['board_encoded'].tolist()).reshape(count, -1)\n",
    "board_matrix_flattened"
   ]
  },
  {
   "cell_type": "code",
   "execution_count": 10,
   "metadata": {},
   "outputs": [
    {
     "data": {
      "text/plain": [
       "array([[6, 6, 5, 6],\n",
       "       [2, 0, 3, 0],\n",
       "       [5, 6, 4, 6],\n",
       "       ...,\n",
       "       [2, 3, 1, 3],\n",
       "       [3, 3, 2, 3],\n",
       "       [1, 3, 0, 3]])"
      ]
     },
     "execution_count": 10,
     "metadata": {},
     "output_type": "execute_result"
    }
   ],
   "source": [
    "df['move_encoded'] = df['move'].apply(encode_move)\n",
    "move_vector_flattened = numpy.array(df['move_encoded'].tolist()).reshape(count, -1)\n",
    "move_vector_flattened"
   ]
  },
  {
   "cell_type": "code",
   "execution_count": 11,
   "metadata": {},
   "outputs": [
    {
     "data": {
      "text/plain": [
       "array([[1., 0., 0., ..., 0., 1., 0.],\n",
       "       [0., 1., 0., ..., 0., 1., 0.],\n",
       "       [1., 0., 0., ..., 0., 1., 0.],\n",
       "       ...,\n",
       "       [1., 0., 0., ..., 0., 1., 0.],\n",
       "       [0., 1., 0., ..., 0., 1., 0.],\n",
       "       [1., 0., 0., ..., 0., 0., 1.]])"
      ]
     },
     "execution_count": 11,
     "metadata": {},
     "output_type": "execute_result"
    }
   ],
   "source": [
    "ohe = OneHotEncoder()\n",
    "categorical_features = ohe.fit_transform(df[['side', 'piece', 'river', 'trap', 'den']]).toarray()\n",
    "categorical_features"
   ]
  },
  {
   "cell_type": "code",
   "execution_count": 12,
   "metadata": {},
   "outputs": [
    {
     "data": {
      "text/plain": [
       "array([[0.125],\n",
       "       [0.125],\n",
       "       [0.125],\n",
       "       ...,\n",
       "       [0.   ],\n",
       "       [0.625],\n",
       "       [0.125]])"
      ]
     },
     "execution_count": 12,
     "metadata": {},
     "output_type": "execute_result"
    }
   ],
   "source": [
    "scaler = MinMaxScaler()\n",
    "numeric_features = scaler.fit_transform(df[['atk']])\n",
    "numeric_features"
   ]
  },
  {
   "cell_type": "code",
   "execution_count": 13,
   "metadata": {},
   "outputs": [],
   "source": [
    "X = numpy.concatenate([board_matrix_flattened, move_vector_flattened, categorical_features, numeric_features], axis=1)\n",
    "y = df['score'].values"
   ]
  },
  {
   "cell_type": "code",
   "execution_count": 14,
   "metadata": {},
   "outputs": [],
   "source": [
    "# Split the data\n",
    "def build_model(input_shape):\n",
    "    inputs = Input(shape=(input_shape,))\n",
    "    \n",
    "    x = Dense(512, kernel_regularizer=l2(0.005))(inputs)\n",
    "    x = BatchNormalization()(x)\n",
    "    x = Activation('relu')(x)\n",
    "    x = Dropout(0.3)(x)\n",
    "    \n",
    "    x = Dense(1024, kernel_regularizer=l2(0.005))(x)\n",
    "    x = BatchNormalization()(x)\n",
    "    x = Activation('relu')(x)\n",
    "    x = Dropout(0.3)(x)\n",
    "    \n",
    "    output = Dense(1, activation='linear', name='output')(x)\n",
    "    \n",
    "    model = Model(inputs=inputs, outputs=output)\n",
    "    model.compile(optimizer=Adam(learning_rate=0.0001), loss=MeanSquaredError(), metrics=['mae'])\n",
    "\n",
    "    return model"
   ]
  },
  {
   "cell_type": "code",
   "execution_count": 15,
   "metadata": {},
   "outputs": [
    {
     "name": "stdout",
     "output_type": "stream",
     "text": [
      "WARNING:tensorflow:From c:\\Users\\yamia\\AppData\\Local\\Programs\\Python\\Python311\\Lib\\site-packages\\keras\\src\\backend.py:1398: The name tf.executing_eagerly_outside_functions is deprecated. Please use tf.compat.v1.executing_eagerly_outside_functions instead.\n",
      "\n",
      "Model: \"model\"\n",
      "_________________________________________________________________\n",
      " Layer (type)                Output Shape              Param #   \n",
      "=================================================================\n",
      " input_1 (InputLayer)        [(None, 94)]              0         \n",
      "                                                                 \n",
      " dense (Dense)               (None, 512)               48640     \n",
      "                                                                 \n",
      " batch_normalization (Batch  (None, 512)               2048      \n",
      " Normalization)                                                  \n",
      "                                                                 \n",
      " activation (Activation)     (None, 512)               0         \n",
      "                                                                 \n",
      " dropout (Dropout)           (None, 512)               0         \n",
      "                                                                 \n",
      " dense_1 (Dense)             (None, 1024)              525312    \n",
      "                                                                 \n",
      " batch_normalization_1 (Bat  (None, 1024)              4096      \n",
      " chNormalization)                                                \n",
      "                                                                 \n",
      " activation_1 (Activation)   (None, 1024)              0         \n",
      "                                                                 \n",
      " dropout_1 (Dropout)         (None, 1024)              0         \n",
      "                                                                 \n",
      " output (Dense)              (None, 1)                 1025      \n",
      "                                                                 \n",
      "=================================================================\n",
      "Total params: 581121 (2.22 MB)\n",
      "Trainable params: 578049 (2.21 MB)\n",
      "Non-trainable params: 3072 (12.00 KB)\n",
      "_________________________________________________________________\n"
     ]
    }
   ],
   "source": [
    "model = build_model(X.shape[1])\n",
    "model.summary()"
   ]
  },
  {
   "cell_type": "code",
   "execution_count": 16,
   "metadata": {},
   "outputs": [],
   "source": [
    "reduce_lr = ReduceLROnPlateau(monitor='val_loss', factor=0.2, patience=5, min_lr=0.00001)\n",
    "early_stopping = EarlyStopping(monitor='val_loss', patience=10, restore_best_weights=True)\n",
    "tensorboard_callback = TensorBoard(log_dir=os.path.join(\"logs\", \"fit\", datetime.now().strftime(\"%Y%m%d-%H%M%S\")), histogram_freq=1)"
   ]
  },
  {
   "cell_type": "code",
   "execution_count": 17,
   "metadata": {},
   "outputs": [],
   "source": [
    "X_train, X_val, y_train, y_val = model_selection.train_test_split(X, y, test_size=0.1, random_state=42)"
   ]
  },
  {
   "cell_type": "code",
   "execution_count": 18,
   "metadata": {},
   "outputs": [
    {
     "name": "stdout",
     "output_type": "stream",
     "text": [
      "Epoch 1/50\n",
      "WARNING:tensorflow:From c:\\Users\\yamia\\AppData\\Local\\Programs\\Python\\Python311\\Lib\\site-packages\\keras\\src\\utils\\tf_utils.py:492: The name tf.ragged.RaggedTensorValue is deprecated. Please use tf.compat.v1.ragged.RaggedTensorValue instead.\n",
      "\n",
      "WARNING:tensorflow:From c:\\Users\\yamia\\AppData\\Local\\Programs\\Python\\Python311\\Lib\\site-packages\\keras\\src\\engine\\base_layer_utils.py:384: The name tf.executing_eagerly_outside_functions is deprecated. Please use tf.compat.v1.executing_eagerly_outside_functions instead.\n",
      "\n",
      "72590/72590 [==============================] - 4198s 58ms/step - loss: 319.0370 - mae: 8.7531 - val_loss: 21.7008 - val_mae: 2.7512 - lr: 1.0000e-04\n",
      "Epoch 2/50\n",
      "72590/72590 [==============================] - 2379s 33ms/step - loss: 101.8053 - mae: 6.2525 - val_loss: 47.4814 - val_mae: 4.2650 - lr: 1.0000e-04\n",
      "Epoch 3/50\n",
      "72590/72590 [==============================] - 2430s 33ms/step - loss: 83.7676 - mae: 5.6266 - val_loss: 115.4867 - val_mae: 7.8190 - lr: 1.0000e-04\n",
      "Epoch 4/50\n",
      "72590/72590 [==============================] - 2399s 33ms/step - loss: 74.2059 - mae: 5.2596 - val_loss: 84.2263 - val_mae: 6.6165 - lr: 1.0000e-04\n",
      "Epoch 5/50\n",
      "72590/72590 [==============================] - 2396s 33ms/step - loss: 67.8318 - mae: 4.9953 - val_loss: 101.8366 - val_mae: 7.1058 - lr: 1.0000e-04\n",
      "Epoch 6/50\n",
      "72590/72590 [==============================] - 2393s 33ms/step - loss: 61.9204 - mae: 4.7252 - val_loss: 61.0445 - val_mae: 5.4469 - lr: 1.0000e-04\n",
      "Epoch 7/50\n",
      "72590/72590 [==============================] - 2367s 33ms/step - loss: 53.2240 - mae: 4.3403 - val_loss: 83.0380 - val_mae: 6.3611 - lr: 2.0000e-05\n",
      "Epoch 8/50\n",
      "72590/72590 [==============================] - 2379s 33ms/step - loss: 51.2851 - mae: 4.2481 - val_loss: 93.2837 - val_mae: 6.8201 - lr: 2.0000e-05\n",
      "Epoch 9/50\n",
      "72590/72590 [==============================] - 2400s 33ms/step - loss: 49.9692 - mae: 4.1775 - val_loss: 98.2037 - val_mae: 7.0020 - lr: 2.0000e-05\n",
      "Epoch 10/50\n",
      "72590/72590 [==============================] - 2368s 33ms/step - loss: 48.6825 - mae: 4.1113 - val_loss: 84.2421 - val_mae: 6.4525 - lr: 2.0000e-05\n",
      "Epoch 11/50\n",
      "72590/72590 [==============================] - 2385s 33ms/step - loss: 47.4893 - mae: 4.0457 - val_loss: 102.0294 - val_mae: 7.1552 - lr: 2.0000e-05\n"
     ]
    }
   ],
   "source": [
    "history = model.fit(X_train, y_train, epochs=50, batch_size=512, validation_data=(X_val, y_val), callbacks=[reduce_lr, early_stopping, tensorboard_callback])"
   ]
  },
  {
   "cell_type": "code",
   "execution_count": null,
   "metadata": {},
   "outputs": [],
   "source": [
    "model.save('animal_chess_model.h5')"
   ]
  },
  {
   "cell_type": "code",
   "execution_count": null,
   "metadata": {},
   "outputs": [],
   "source": [
    "epochs = range(1, len(history.history['loss']) + 1)\n",
    "loss = history.history['loss']\n",
    "val_loss = history.history['val_loss']\n",
    "mae = history.history['mae']\n",
    "val_mae = history.history['val_mae']"
   ]
  },
  {
   "cell_type": "code",
   "execution_count": null,
   "metadata": {},
   "outputs": [],
   "source": [
    "# Plotting training and validation loss\n",
    "plt.figure(figsize=(14, 5))\n",
    "\n",
    "plt.subplot(1, 2, 1)\n",
    "plt.plot(epochs, loss, 'b-', label='Training Loss')\n",
    "plt.plot(epochs, val_loss, 'r-', label='Validation Loss')\n",
    "plt.title('Training and Validation Loss')\n",
    "plt.xlabel('Epochs')\n",
    "plt.ylabel('Loss')\n",
    "plt.legend()\n",
    "\n",
    "# Plotting training and validation MAE\n",
    "plt.subplot(1, 2, 2)\n",
    "plt.plot(epochs, mae, 'b-', label='Training MAE')\n",
    "plt.plot(epochs, val_mae, 'r-', label='Validation MAE')\n",
    "plt.title('Training and Validation MAE')\n",
    "plt.xlabel('Epochs')\n",
    "plt.ylabel('MAE')\n",
    "plt.legend()\n",
    "\n",
    "plt.tight_layout()\n",
    "plt.show()"
   ]
  }
 ],
 "metadata": {
  "kernelspec": {
   "display_name": "Python 3",
   "language": "python",
   "name": "python3"
  },
  "language_info": {
   "codemirror_mode": {
    "name": "ipython",
    "version": 3
   },
   "file_extension": ".py",
   "mimetype": "text/x-python",
   "name": "python",
   "nbconvert_exporter": "python",
   "pygments_lexer": "ipython3",
   "version": "3.11.8"
  }
 },
 "nbformat": 4,
 "nbformat_minor": 2
}
