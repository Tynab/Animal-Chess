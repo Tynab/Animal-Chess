{
 "cells": [
  {
   "cell_type": "code",
   "execution_count": 2,
   "metadata": {
    "metadata": {}
   },
   "outputs": [],
   "source": [
    "import math\n",
    "import os\n",
    "import pandas"
   ]
  },
  {
   "cell_type": "code",
   "execution_count": 3,
   "metadata": {
    "metadata": {}
   },
   "outputs": [],
   "source": [
    "N_ROWS = 10_000_000"
   ]
  },
  {
   "cell_type": "code",
   "execution_count": 4,
   "metadata": {
    "metadata": {}
   },
   "outputs": [],
   "source": [
    "DARK_FILE_NAME = 'dark.csv'\n",
    "LIGHT_FILE_NAME = 'light.csv'\n",
    "FILE_NAME = 'animal_chess.csv'"
   ]
  },
  {
   "cell_type": "code",
   "execution_count": 5,
   "metadata": {
    "metadata": {}
   },
   "outputs": [
    {
     "data": {
      "text/html": [
       "<div>\n",
       "<style scoped>\n",
       "    .dataframe tbody tr th:only-of-type {\n",
       "        vertical-align: middle;\n",
       "    }\n",
       "\n",
       "    .dataframe tbody tr th {\n",
       "        vertical-align: top;\n",
       "    }\n",
       "\n",
       "    .dataframe thead th {\n",
       "        text-align: right;\n",
       "    }\n",
       "</style>\n",
       "<table border=\"1\" class=\"dataframe\">\n",
       "  <thead>\n",
       "    <tr style=\"text-align: right;\">\n",
       "      <th></th>\n",
       "      <th>id</th>\n",
       "      <th>board</th>\n",
       "      <th>side</th>\n",
       "      <th>piece</th>\n",
       "      <th>atk</th>\n",
       "      <th>move</th>\n",
       "      <th>river</th>\n",
       "      <th>trap</th>\n",
       "      <th>den</th>\n",
       "      <th>score</th>\n",
       "      <th>winner</th>\n",
       "    </tr>\n",
       "  </thead>\n",
       "  <tbody>\n",
       "    <tr>\n",
       "      <th>0</th>\n",
       "      <td>0549373a-621c-4103-b077-7908a1b55a16</td>\n",
       "      <td>l-r---ET--d-----C---p---W-------------w---P---...</td>\n",
       "      <td>-1</td>\n",
       "      <td>T</td>\n",
       "      <td>6</td>\n",
       "      <td>A9A8</td>\n",
       "      <td>0</td>\n",
       "      <td>0</td>\n",
       "      <td>0</td>\n",
       "      <td>0</td>\n",
       "      <td>0</td>\n",
       "    </tr>\n",
       "    <tr>\n",
       "      <th>1</th>\n",
       "      <td>0549373a-621c-4103-b077-7908a1b55a16</td>\n",
       "      <td>l--r--ET--d-----C---p---W-------------w---P---...</td>\n",
       "      <td>1</td>\n",
       "      <td>r</td>\n",
       "      <td>1</td>\n",
       "      <td>A3A4</td>\n",
       "      <td>0</td>\n",
       "      <td>0</td>\n",
       "      <td>0</td>\n",
       "      <td>0</td>\n",
       "      <td>0</td>\n",
       "    </tr>\n",
       "    <tr>\n",
       "      <th>2</th>\n",
       "      <td>0549373a-621c-4103-b077-7908a1b55a16</td>\n",
       "      <td>l--r--ET--d-----C---p---W-------------w---P---...</td>\n",
       "      <td>-1</td>\n",
       "      <td>R</td>\n",
       "      <td>1</td>\n",
       "      <td>G7G6</td>\n",
       "      <td>0</td>\n",
       "      <td>0</td>\n",
       "      <td>0</td>\n",
       "      <td>0</td>\n",
       "      <td>0</td>\n",
       "    </tr>\n",
       "    <tr>\n",
       "      <th>3</th>\n",
       "      <td>0549373a-621c-4103-b077-7908a1b55a16</td>\n",
       "      <td>l---r-ET--d-----C---p---W-------------w---P---...</td>\n",
       "      <td>1</td>\n",
       "      <td>r</td>\n",
       "      <td>1</td>\n",
       "      <td>A4A5</td>\n",
       "      <td>0</td>\n",
       "      <td>0</td>\n",
       "      <td>0</td>\n",
       "      <td>0</td>\n",
       "      <td>0</td>\n",
       "    </tr>\n",
       "    <tr>\n",
       "      <th>4</th>\n",
       "      <td>0549373a-621c-4103-b077-7908a1b55a16</td>\n",
       "      <td>l---r-ET--d-----C---p---W-------------w---P---...</td>\n",
       "      <td>-1</td>\n",
       "      <td>R</td>\n",
       "      <td>1</td>\n",
       "      <td>G6G5</td>\n",
       "      <td>0</td>\n",
       "      <td>0</td>\n",
       "      <td>0</td>\n",
       "      <td>0</td>\n",
       "      <td>0</td>\n",
       "    </tr>\n",
       "  </tbody>\n",
       "</table>\n",
       "</div>"
      ],
      "text/plain": [
       "                                     id  \\\n",
       "0  0549373a-621c-4103-b077-7908a1b55a16   \n",
       "1  0549373a-621c-4103-b077-7908a1b55a16   \n",
       "2  0549373a-621c-4103-b077-7908a1b55a16   \n",
       "3  0549373a-621c-4103-b077-7908a1b55a16   \n",
       "4  0549373a-621c-4103-b077-7908a1b55a16   \n",
       "\n",
       "                                               board  side piece  atk  move  \\\n",
       "0  l-r---ET--d-----C---p---W-------------w---P---...    -1     T    6  A9A8   \n",
       "1  l--r--ET--d-----C---p---W-------------w---P---...     1     r    1  A3A4   \n",
       "2  l--r--ET--d-----C---p---W-------------w---P---...    -1     R    1  G7G6   \n",
       "3  l---r-ET--d-----C---p---W-------------w---P---...     1     r    1  A4A5   \n",
       "4  l---r-ET--d-----C---p---W-------------w---P---...    -1     R    1  G6G5   \n",
       "\n",
       "   river  trap  den  score  winner  \n",
       "0      0     0    0      0       0  \n",
       "1      0     0    0      0       0  \n",
       "2      0     0    0      0       0  \n",
       "3      0     0    0      0       0  \n",
       "4      0     0    0      0       0  "
      ]
     },
     "execution_count": 5,
     "metadata": {},
     "output_type": "execute_result"
    }
   ],
   "source": [
    "df = pandas.read_csv(DARK_FILE_NAME)\n",
    "df.head()"
   ]
  },
  {
   "cell_type": "code",
   "execution_count": 6,
   "metadata": {
    "metadata": {}
   },
   "outputs": [
    {
     "data": {
      "text/plain": [
       "2"
      ]
     },
     "execution_count": 6,
     "metadata": {},
     "output_type": "execute_result"
    }
   ],
   "source": [
    "n_files = math.ceil(len(df) / N_ROWS)\n",
    "n_files"
   ]
  },
  {
   "cell_type": "code",
   "execution_count": 7,
   "metadata": {
    "metadata": {}
   },
   "outputs": [
    {
     "name": "stdout",
     "output_type": "stream",
     "text": [
      "dark_1.csv saved\n",
      "dark_2.csv saved\n"
     ]
    }
   ],
   "source": [
    "for i in range(n_files):\n",
    "    file_name_i = DARK_FILE_NAME.replace('.csv', f'_{i +1 }.csv')\n",
    "    df_i = df[i * N_ROWS:(i + 1) * N_ROWS]\n",
    "    df_i.to_csv(file_name_i, index=False)\n",
    "    print(f'{file_name_i} saved')"
   ]
  },
  {
   "cell_type": "code",
   "execution_count": 8,
   "metadata": {
    "metadata": {}
   },
   "outputs": [],
   "source": [
    "os.remove(DARK_FILE_NAME)\n",
    "os.remove(LIGHT_FILE_NAME)\n",
    "os.remove(FILE_NAME)"
   ]
  }
 ],
 "metadata": {
  "kernelspec": {
   "display_name": "Python 3",
   "language": "python",
   "name": "python3"
  },
  "language_info": {
   "codemirror_mode": {
    "name": "ipython",
    "version": 3
   },
   "file_extension": ".py",
   "mimetype": "text/x-python",
   "name": "python",
   "nbconvert_exporter": "python",
   "pygments_lexer": "ipython3",
   "version": "3.11.8"
  }
 },
 "nbformat": 4,
 "nbformat_minor": 2
}
